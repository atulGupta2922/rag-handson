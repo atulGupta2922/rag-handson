{
 "cells": [
  {
   "cell_type": "markdown",
   "id": "a099b962",
   "metadata": {},
   "source": [
    "Download the data, pdf format books"
   ]
  },
  {
   "cell_type": "code",
   "execution_count": 1,
   "id": "fa828259",
   "metadata": {},
   "outputs": [],
   "source": [
    "import requests\n",
    "from pathlib import Path\n",
    "\n",
    "def download_file(url: str, filename: str) -> None:\n",
    "    \"\"\"\n",
    "    Download a file from a URL and save it to a specified location.\n",
    "\n",
    "    Parameters:\n",
    "    url (str): The URL of the file to download.\n",
    "    filename (str): The name to save the file as.\n",
    "\n",
    "    Returns:\n",
    "    None\n",
    "    \"\"\"\n",
    "    # Construct the destination path\n",
    "    destination = Path('data') / filename\n",
    "    destination.parent.mkdir(parents=True, exist_ok=True)  # Ensure the directory exists\n",
    "\n",
    "    response = requests.get(url)\n",
    "    response.raise_for_status()  # Raise an exception if the request was unsuccessful\n",
    "\n",
    "    with open(destination, 'wb') as f:\n",
    "        f.write(response.content)\n",
    "\n",
    "    print(f\"File downloaded successfully to {destination}\")"
   ]
  },
  {
   "cell_type": "code",
   "execution_count": 2,
   "id": "8c6e3c8a",
   "metadata": {},
   "outputs": [
    {
     "name": "stdout",
     "output_type": "stream",
     "text": [
      "File downloaded successfully to data/Eric-Jorgenson_The-Almanack-of-Naval-Ravikant_Final.pdf\n",
      "File downloaded successfully to data/The+Anthology+of+Balaji.pdf\n",
      "File downloaded successfully to data/taoofseneca_vol1-1.pdf\n",
      "File downloaded successfully to data/taoofseneca_vol2.pdf\n",
      "File downloaded successfully to data/taoofseneca_vol3.pdf\n",
      "File downloaded successfully to data/skin-in-the-game-nassim-nicholas-taleb.pdf\n",
      "File downloaded successfully to data/Hackers-Painters-BigIdeasFromTheComputerAgebyPaulGraham.pdf\n"
     ]
    }
   ],
   "source": [
    "urls = {\n",
    "    \"Eric-Jorgenson_The-Almanack-of-Naval-Ravikant_Final.pdf\" : \"https://navalmanack.s3.amazonaws.com/Eric-Jorgenson_The-Almanack-of-Naval-Ravikant_Final.pdf\",\n",
    "    \"The+Anthology+of+Balaji.pdf\" : \"https://balajianthology.s3.us-east-2.amazonaws.com/The+Anthology+of+Balaji.pdf\",\n",
    "    \"taoofseneca_vol1-1.pdf\" : \"https://tim.blog/wp-content/uploads/2017/07/taoofseneca_vol1-1.pdf\",\n",
    "    \"taoofseneca_vol2.pdf\" : \"https://tim.blog/wp-content/uploads/2017/07/taoofseneca_vol2.pdf\",\n",
    "    \"taoofseneca_vol3.pdf\" : \"https://tim.blog/wp-content/uploads/2017/07/taoofseneca_vol3.pdf\",\n",
    "    \"skin-in-the-game-nassim-nicholas-taleb.pdf\" : \"https://philosophiatopics.files.wordpress.com/2018/10/skin-in-the-game-nassim-nicholas-taleb.pdf\",\n",
    "    \"Hackers-Painters-BigIdeasFromTheComputerAgebyPaulGraham.pdf\" : \"https://digtvbg.com/files/books-for-hacking/Hackers%20%26%20Painters%20-%20Big%20Ideas%20From%20The%20Computer%20Age%20by%20Paul%20Graham.pdf\"\n",
    "}\n",
    "    \n",
    "\n",
    "for key, value in urls.items():\n",
    "    download_file(value, key)\n",
    "    \n"
   ]
  },
  {
   "cell_type": "code",
   "execution_count": null,
   "id": "cce0a7aa",
   "metadata": {},
   "outputs": [],
   "source": []
  }
 ],
 "metadata": {
  "kernelspec": {
   "display_name": "venv",
   "language": "python",
   "name": "python3"
  },
  "language_info": {
   "codemirror_mode": {
    "name": "ipython",
    "version": 3
   },
   "file_extension": ".py",
   "mimetype": "text/x-python",
   "name": "python",
   "nbconvert_exporter": "python",
   "pygments_lexer": "ipython3",
   "version": "3.12.1"
  }
 },
 "nbformat": 4,
 "nbformat_minor": 5
}
