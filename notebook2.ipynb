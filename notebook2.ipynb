{
 "cells": [
  {
   "cell_type": "markdown",
   "id": "255f99ee",
   "metadata": {},
   "source": [
    "# Using Llama index"
   ]
  },
  {
   "cell_type": "code",
   "execution_count": 1,
   "id": "7c6281bc",
   "metadata": {},
   "outputs": [
    {
     "data": {
      "text/plain": [
       "True"
      ]
     },
     "execution_count": 1,
     "metadata": {},
     "output_type": "execute_result"
    }
   ],
   "source": [
    "import os\n",
    "\n",
    "from getpass import getpass\n",
    "import nest_asyncio\n",
    "\n",
    "from dotenv import load_dotenv\n",
    "\n",
    "nest_asyncio.apply()\n",
    "\n",
    "load_dotenv()"
   ]
  },
  {
   "cell_type": "code",
   "execution_count": 2,
   "id": "a58dfa6f",
   "metadata": {},
   "outputs": [],
   "source": [
    "CO_API_KEY = os.environ['CO_API_KEY'] or getpass(\"Enter your Cohere API key: \")"
   ]
  },
  {
   "cell_type": "markdown",
   "id": "5d97ec03",
   "metadata": {},
   "source": [
    "#### Basic Usage"
   ]
  },
  {
   "cell_type": "code",
   "execution_count": 3,
   "id": "fedbf44a",
   "metadata": {},
   "outputs": [
    {
     "name": "stdout",
     "output_type": "stream",
     "text": [
      "king of Macedonia and one of the most successful military commanders in history.\n"
     ]
    }
   ],
   "source": [
    "from llama_index.llms.cohere import Cohere\n",
    "\n",
    "llm = Cohere(model=\"command-r-plus\", temperature=0.2)\n",
    "\n",
    "response = llm.complete(\"Alexander the Great was a\")\n",
    "\n",
    "print(response)"
   ]
  },
  {
   "cell_type": "markdown",
   "id": "b94f59d3",
   "metadata": {},
   "source": [
    "#### Prompt Templates"
   ]
  },
  {
   "cell_type": "code",
   "execution_count": 5,
   "id": "b5a2f714",
   "metadata": {},
   "outputs": [
    {
     "name": "stdout",
     "output_type": "stream",
     "text": [
      "Verse 1:\n",
      "I got an old pair of jeans, they're ripped and torn\n",
      "Been through the years, but they're still worn\n",
      "Faded denim, with holes at the knees\n",
      "They tell a story, of my struggles and victories\n",
      "\n",
      "Chorus:\n",
      "Old torn jeans, my faithful companions\n",
      "Been with me through the highs and lows\n",
      "They've seen my tears and heard my screams\n",
      "Old torn jeans, a part of my history\n",
      "\n",
      "Verse 2:\n",
      "I bought them back when I was just a teen\n",
      "Thought they made me look cool, and a bit mean\n",
      "But as I grew up, they grew old too\n",
      "Yet they remained, a reminder of my youth\n",
      "\n",
      "Chorus:\n",
      "Old torn jeans, we've been through it all\n",
      "The good times and the bad, we stood tall\n",
      "They kept me warm, in the cold winter nights\n",
      "Old torn jeans, my source of comfort and light\n",
      "\n",
      "Verse 3:\n",
      "I could've thrown them out, bought a brand new pair\n",
      "But something held me back, I just couldn't bare\n",
      "The thought of letting go, of those familiar tears\n",
      "They're a part of me, a reminder of my years\n",
      "\n",
      "Chorus:\n",
      "Old torn jeans, a symbol of resilience\n",
      "They've endured the wear and tear, with persistence\n",
      "They may be old, but their value's unchanged\n",
      "Old torn jeans, a testament to what remains\n",
      "\n",
      "Bridge:\n",
      "In a world that's always changing, where nothing stays the same\n",
      "My old torn jeans remind me, some things are worth retaining\n",
      "They're a piece of my past, a link to who I was\n",
      "A humble pair of jeans, that I can still trust\n",
      "\n",
      "Chorus:\n",
      "Old torn jeans, I'll keep you forever\n",
      "You're more than just fabric, sewn together\n",
      "You're a part of my journey, a friend I hold dear\n",
      "Old torn jeans, I'll wear you till the end of my years\n",
      "\n",
      "Outro:\n",
      "So here's to the old torn jeans, that have seen me through\n",
      "A loyal companion, in everything I do\n",
      "They may be tattered and worn, but their spirit remains\n",
      "Old torn jeans, a legacy that sustains.\n"
     ]
    }
   ],
   "source": [
    "from llama_index.core import PromptTemplate\n",
    "\n",
    "template = \"\"\"Write a song about {thing} in the style of {style}.\"\"\"\n",
    "\n",
    "prompt = template.format(thing=\"an old torn jeans\", style=\"eminem rap\") \n",
    "\n",
    "response = llm.complete(prompt)\n",
    "\n",
    "print(response)"
   ]
  },
  {
   "cell_type": "markdown",
   "id": "f5dd6d2a",
   "metadata": {},
   "source": [
    "#### Chat Messages"
   ]
  },
  {
   "cell_type": "code",
   "execution_count": null,
   "id": "6dc56aac",
   "metadata": {},
   "outputs": [
    {
     "name": "stdout",
     "output_type": "stream",
     "text": [
      "assistant: Political discussions in the office can be tricky to navigate. Here are a few strategies to help you tackle political situations at work:\n",
      "\n",
      "- Respectfully disengage: If you find yourself in a political discussion that makes you uncomfortable, it's perfectly valid to respectfully disengage from the conversation. You can simply say something like, \"I appreciate your perspective, but I prefer to keep my political views separate from work.\" This way, you set a boundary while still maintaining professionalism.\n",
      "\n",
      "- Focus on common goals: Try to shift the conversation away from political differences and towards shared goals or projects. Remind your colleagues that you all have a common purpose in contributing to the success of the organization. This can help create a more collaborative and harmonious work environment.\n",
      "\n",
      "- Foster an inclusive culture: Encourage an atmosphere of respect and inclusivity in your workplace. This means respecting different viewpoints, avoiding personal attacks, and refraining from making assumptions about others' beliefs. By fostering an inclusive culture, you can help prevent political discussions from escalating into divisive arguments.\n",
      "\n",
      "- Know your company's policies: Familiarize yourself with your company's policies on workplace conduct and political activity. Many organizations have guidelines in place to ensure a respectful and non-discriminatory environment. Understanding these policies can help you navigate political discussions and know your rights and protections.\n",
      "\n",
      "- Stay informed and empathetic: Keep yourself informed about political issues, but also strive to listen to and understand different perspectives. Empathy is crucial in navigating political differences. Try to see things from your colleagues' point of view, even if you don't share their beliefs. This can help create a more respectful and open-minded dialogue.\n",
      "\n",
      "- Seek support: If you feel uncomfortable or targeted because of your political views, don't hesitate to seek support from a trusted colleague, a human resources representative, or a mentor. They can provide guidance and help mediate any conflicts that may arise due to political differences.\n",
      "\n",
      "Remember, it's okay to have differing political opinions, but it's important to handle these discussions with professionalism and respect. Also, don't be afraid to stand up for your values and beliefs while maintaining a respectful tone. \n",
      "\n",
      "Song suggestion: \"Where Is the Love?\" by The Black Eyed Peas. This song promotes unity and peace, which is a great reminder during politically charged times.\n"
     ]
    }
   ],
   "source": [
    "from llama_index.core.llms import ChatMessage\n",
    "from llama_index.llms.cohere import Cohere\n",
    "\n",
    "llm = Cohere(model=\"command-r-plus\")\n",
    "\n",
    "messages = [\n",
    "    ChatMessage(role=\"system\", content=\"You always end up giving a song suggestion at the end of your answer\"),\n",
    "    ChatMessage(role=\"user\", content=\"How do I tackle a political situation at my office?\"),\n",
    "]\n",
    "\n",
    "response = llm.chat(messages)\n",
    "\n",
    "print(response)"
   ]
  },
  {
   "cell_type": "markdown",
   "id": "430815cc",
   "metadata": {},
   "source": [
    "#### Chat prompt templates"
   ]
  },
  {
   "cell_type": "code",
   "execution_count": 11,
   "id": "d5f3dc21",
   "metadata": {},
   "outputs": [
    {
     "name": "stdout",
     "output_type": "stream",
     "text": [
      "Rafa Nadal is one of the most successful tennis players of all time and has achieved numerous accolades throughout his career. As of January 2023, he has won 92 ATP singles titles, including a record 14 French Open titles, 22 Grand Slam singles titles, and 36 ATP Masters 1000 titles. He has also represented Spain in the Davis Cup and helped secure five titles for his country. \n",
      "\n",
      "When compared to his contemporaries, Nadal is considered by many to be one of the greatest players of his generation. He has had notable rivalries with both Roger Federer and Novak Djokovic, with all three players pushing each other to new heights and collectively winning 65 Grand Slam singles titles. \n",
      "\n",
      "In terms of their head-to-head record, Nadal leads against Federer with a 24-16 record, and trails slightly behind Djokovic with a 29-30 record. However, it is important to note that these records do not necessarily indicate overall superiority, as factors such as playing style, surface, and individual performance on the day can influence the outcome of any given match. \n",
      "\n",
      "Overall, Rafa Nadal is undoubtedly one of the most dominant players of his generation, and his achievements and impact on the sport will likely be remembered for years to come.\n"
     ]
    }
   ],
   "source": [
    "from llama_index.core.llms import ChatMessage, MessageRole\n",
    "from llama_index.core import ChatPromptTemplate\n",
    "\n",
    "chat_template = [\n",
    "    ChatMessage(role=MessageRole.SYSTEM, content=\"You always provide details with your answers\"),\n",
    "    ChatMessage(role=MessageRole.USER, content=\"{content}\")\n",
    "]\n",
    "\n",
    "chat_prompt = ChatPromptTemplate(chat_template)\n",
    "response = llm.complete(chat_prompt.format(content = \"How superior Rafa is as compared to other player of his generation?\"))\n",
    "\n",
    "print(response)"
   ]
  },
  {
   "cell_type": "markdown",
   "id": "c0fed456",
   "metadata": {},
   "source": [
    "#### Streaming Output"
   ]
  },
  {
   "cell_type": "code",
   "execution_count": 12,
   "id": "593765fe",
   "metadata": {},
   "outputs": [
    {
     "name": "stdout",
     "output_type": "stream",
     "text": [
      "The driver with the most Formula One World Championship titles are:\n",
      "\n",
      "- Michael Schumacher - 7 titles (1994, 1995, 2000, 2001, 2002, 2003, 2004)\n",
      "- Lewis Hamilton - 7 titles (2008, 2014, 2015, 2017, 2018, 2019, 2020)\n",
      "\n",
      "Both drivers are tied for the most championships, with Schumacher winning his titles with Benetton and Ferrari, and Hamilton winning with Mercedes."
     ]
    }
   ],
   "source": [
    "messages = [\n",
    "    ChatMessage(role=MessageRole.SYSTEM, content=\"Your are a participant for sports trivia quiz\"),\n",
    "    ChatMessage(role=MessageRole.USER, content=\"Who has won most F1 championships?\")\n",
    "]\n",
    "response = llm.stream_chat(messages)\n",
    "\n",
    "for msg in response:\n",
    "    print(msg.delta, end=\"\")"
   ]
  },
  {
   "cell_type": "markdown",
   "id": "76e3f0e7",
   "metadata": {},
   "source": [
    "#### Chat Engine"
   ]
  },
  {
   "cell_type": "code",
   "execution_count": 20,
   "id": "8992769e",
   "metadata": {},
   "outputs": [
    {
     "name": "stdout",
     "output_type": "stream",
     "text": [
      "===== Entering Chat REPL =====\n",
      "Type \"exit\" to exit.\n",
      "\n",
      "Assistant: Here are a few songs that might help lift your spirits and get you motivated for work:\n",
      "\n",
      "\"Eye of the Tiger\" by Survivor: This classic rock anthem is all about perseverance and fighting spirit. It can pump you up and remind you that you have the strength to tackle any challenge at work.\n",
      "\n",
      "\"Good as Hell\" by Lizzo: This upbeat and empowering pop song is all about feeling confident and loving yourself. It can be a great reminder to believe in your worth and know that you are capable of achieving great things.\n",
      "\n",
      "\"Roar\" by Katy Perry: With its powerful lyrics and catchy melody, \"Roar\" is all about finding your voice and standing up for yourself. It can be the perfect boost to help you feel brave and bold as you take on the work day.\n",
      "\n",
      "\"Can't Stop the Feeling!\" by Justin Timberlake: This feel-good pop song is all about letting loose and embracing the joy in life. It can help put a smile on your face and infuse some fun into your workday.\n",
      "\n",
      "\"We Are Young\" by fun.: With its anthemic chorus and uplifting message, \"We Are Young\" celebrates youth, possibility, and the power of perseverance. It can inspire you to embrace a positive outlook and take on the world.\n",
      "\n",
      "\"Don't Stop Believin'\" by Journey: A timeless rock anthem, \"Don't Stop Believin'\" encourages you to keep chasing your dreams and never give up. It's a perfect reminder that your hard work will pay off if you stay determined.\n",
      "\n",
      "So, depending on your taste in music, any of these songs could be a great addition to your workday playlist to help lift your spirits and motivate you!\n",
      "\n"
     ]
    }
   ],
   "source": [
    "from llama_index.core.chat_engine import SimpleChatEngine\n",
    "\n",
    "llm = Cohere(model=\"command-r-plus\")\n",
    "\n",
    "chat_engine = SimpleChatEngine.from_defaults(llm=llm)\n",
    "chat_engine.chat_repl()"
   ]
  }
 ],
 "metadata": {
  "kernelspec": {
   "display_name": "venv",
   "language": "python",
   "name": "python3"
  },
  "language_info": {
   "codemirror_mode": {
    "name": "ipython",
    "version": 3
   },
   "file_extension": ".py",
   "mimetype": "text/x-python",
   "name": "python",
   "nbconvert_exporter": "python",
   "pygments_lexer": "ipython3",
   "version": "3.13.3"
  }
 },
 "nbformat": 4,
 "nbformat_minor": 5
}
