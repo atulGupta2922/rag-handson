{
 "cells": [
  {
   "cell_type": "code",
   "execution_count": 38,
   "id": "196b120a",
   "metadata": {},
   "outputs": [],
   "source": [
    "import os\n",
    "\n",
    "from getpass import getpass\n",
    "import nest_asyncio\n",
    "\n",
    "from dotenv import load_dotenv\n",
    "\n",
    "nest_asyncio.apply()\n",
    "\n",
    "load_dotenv()\n",
    "\n",
    "\n",
    "CO_API_KEY = os.environ['CO_API_KEY'] or getpass(\"Enter your Cohere API key: \")\n",
    "OPENAI_API_KEY = os.environ['OPENAI_API_KEY'] or getpass(\"Enter your OpenAI API key: \")\n",
    "AZURE_AI_SEARCH_ENDPOINT= os.environ['AZURE_AI_SEARCH_ENDPOINT']\n",
    "AZURE_AI_SEARCH_API_KEY= os.environ['AZURE_AI_SEARCH_API_KEY']\n",
    "AZURE_OPENAI_ENDPOINT= os.environ['AZURE_OPENAI_ENDPOINT']\n",
    "AZURE_API_KEY= os.environ['AZURE_API_KEY']\n",
    "AZURE_OPENAI_LLM_API_KEY= os.environ['AZURE_OPENAI_LLM_API_KEY']\n",
    "AZURE_OPENAI_LLM_ENDPOINT= os.environ['AZURE_OPENAI_LLM_ENDPOINT']"
   ]
  },
  {
   "cell_type": "code",
   "execution_count": null,
   "id": "08cfecc0",
   "metadata": {},
   "outputs": [],
   "source": [
    "from azure.search.documents.indexes import SearchIndexClient\n",
    "from llama_index.embeddings.openai import OpenAIEmbedding\n",
    "from llama_index.core import VectorStoreIndex\n",
    "from llama_index.vector_stores.azureaisearch import AzureAISearchVectorStore\n",
    "from llama_index.vector_stores.azureaisearch import IndexManagement\n",
    "from llama_index.core import StorageContext\n",
    "from azure.core.credentials import AzureKeyCredential\n",
    "from llama_index.embeddings.azure_openai import AzureOpenAIEmbedding\n"
   ]
  },
  {
   "cell_type": "markdown",
   "id": "e0fffa92",
   "metadata": {},
   "source": [
    "# Init and loading index from vector store"
   ]
  },
  {
   "cell_type": "markdown",
   "id": "044d755d",
   "metadata": {},
   "source": [
    "#### Init embed model (using my own embed model hosted on azure AI foundry)"
   ]
  },
  {
   "cell_type": "code",
   "execution_count": 33,
   "id": "231b0425",
   "metadata": {},
   "outputs": [],
   "source": [
    "embed_model = AzureOpenAIEmbedding(\n",
    "    model=\"text-embedding-3-small\",\n",
    "    deployment_name=\"text-embedding-3-small\",\n",
    "    azure_endpoint=AZURE_OPENAI_ENDPOINT,\n",
    "    api_key=AZURE_API_KEY,\n",
    "    api_version=\"2024-02-01\", \n",
    ")"
   ]
  },
  {
   "cell_type": "markdown",
   "id": "48325e29",
   "metadata": {},
   "source": [
    "#### Init index_client \n",
    "`(using my own index (vector db - Azure AI search) hosted on azure AI foundry)`"
   ]
  },
  {
   "cell_type": "code",
   "execution_count": 34,
   "id": "1a5a5c9a",
   "metadata": {},
   "outputs": [],
   "source": [
    "credential = AzureKeyCredential(AZURE_AI_SEARCH_API_KEY)\n",
    "index_client = SearchIndexClient(endpoint=AZURE_AI_SEARCH_ENDPOINT, credential=credential)"
   ]
  },
  {
   "cell_type": "markdown",
   "id": "b20f3c87",
   "metadata": {},
   "source": [
    "#### Init Vector Store"
   ]
  },
  {
   "cell_type": "code",
   "execution_count": 35,
   "id": "32a30013",
   "metadata": {},
   "outputs": [
    {
     "name": "stderr",
     "output_type": "stream",
     "text": [
      "async_search_or_index_client is None. Depending on the client type passed in, sync or async functions may not work.\n"
     ]
    }
   ],
   "source": [
    "index_name = 'it_can_be_done'\n",
    "\n",
    "vector_store = AzureAISearchVectorStore(\n",
    "    search_or_index_client=index_client,\n",
    "    index_name=index_name,\n",
    "    index_management=IndexManagement.CREATE_IF_NOT_EXISTS,\n",
    "    embed_model=embed_model,\n",
    "    id_field_key=\"id\",\n",
    "    chunk_field_key=\"chunk\",\n",
    "    embedding_field_key=\"embedding\",\n",
    "    metadata_string_field_key=\"metadata\",\n",
    "    doc_id_field_key=\"doc_id\",\n",
    ")"
   ]
  },
  {
   "cell_type": "markdown",
   "id": "f33a17f0",
   "metadata": {},
   "source": [
    "#### Providind vector_store as storage_context"
   ]
  },
  {
   "cell_type": "code",
   "execution_count": 36,
   "id": "a523c668",
   "metadata": {},
   "outputs": [],
   "source": [
    "storage_context = StorageContext.from_defaults(\n",
    "    vector_store=vector_store,\n",
    "    )"
   ]
  },
  {
   "cell_type": "markdown",
   "id": "1783a022",
   "metadata": {},
   "source": [
    "#### Loading index from stored vectors"
   ]
  },
  {
   "cell_type": "code",
   "execution_count": 37,
   "id": "2385a776",
   "metadata": {},
   "outputs": [],
   "source": [
    "index = VectorStoreIndex.from_vector_store(\n",
    "    vector_store=vector_store, \n",
    "    embed_model=embed_model,\n",
    "    storage_context=storage_context\n",
    ")"
   ]
  },
  {
   "cell_type": "markdown",
   "id": "f7d6c356",
   "metadata": {
    "vscode": {
     "languageId": "html"
    }
   },
   "source": [
    "<h5 style=\"color:green\">Index Loaded successfully. [READY FOR QUERYING]</h5>"
   ]
  },
  {
   "cell_type": "markdown",
   "id": "dba03c6f",
   "metadata": {},
   "source": [
    "### Query Engine"
   ]
  },
  {
   "cell_type": "markdown",
   "id": "68ae5823",
   "metadata": {},
   "source": [
    "* init LLM"
   ]
  },
  {
   "cell_type": "code",
   "execution_count": 40,
   "id": "dbf99def",
   "metadata": {},
   "outputs": [],
   "source": [
    "from llama_index.llms.azure_openai import AzureOpenAI\n",
    "\n",
    "llm = AzureOpenAI(\n",
    "    model='gpt-4.1-mini',\n",
    "    api_key=AZURE_OPENAI_LLM_API_KEY,\n",
    "    azure_endpoint=AZURE_OPENAI_LLM_ENDPOINT,\n",
    "    api_version='2024-02-01',\n",
    "    engine='gpt-4.1-mini'\n",
    ")"
   ]
  },
  {
   "cell_type": "markdown",
   "id": "c22d826a",
   "metadata": {},
   "source": [
    "* querying the LLM"
   ]
  },
  {
   "cell_type": "code",
   "execution_count": 41,
   "id": "692ef182",
   "metadata": {},
   "outputs": [
    {
     "name": "stdout",
     "output_type": "stream",
     "text": [
      "To become rich, focus on building wealth rather than simply accumulating money or seeking status. Wealth comes from owning assets that generate income even while you sleep. It's important to believe that creating wealth ethically is possible, and to avoid resenting wealth, as that mindset can prevent you from achieving it. Ignore those who play status games and criticize others for pursuing wealth. Instead of trading your time for money, aim to own equity in a business, as this is key to financial freedom. Ultimately, you will become rich by providing something valuable to society that people want but don't yet know how to obtain, and doing so on a large scale."
     ]
    }
   ],
   "source": [
    "query_engine = index.as_query_engine(llm=llm, streaming=True)\n",
    "response = query_engine.query(\n",
    "    'How do I go rich?'\n",
    ")\n",
    "\n",
    "response.print_response_stream()"
   ]
  },
  {
   "cell_type": "markdown",
   "id": "854b76f2",
   "metadata": {},
   "source": [
    "* chat engine"
   ]
  },
  {
   "cell_type": "code",
   "execution_count": 46,
   "id": "0f158fd9",
   "metadata": {},
   "outputs": [
    {
     "name": "stderr",
     "output_type": "stream",
     "text": [
      "/Users/atulgupta/workspace/rag-handson/venv/lib/python3.13/site-packages/llama_index/agent/openai/base.py:144: DeprecationWarning: Call to deprecated class OpenAIAgent. (OpenAIAgent has been deprecated and is not maintained.\n",
      "\n",
      "`FunctionAgent` is the recommended replacement.\n",
      "\n",
      "See the docs for more information on updated agent usage: https://docs.llamaindex.ai/en/stable/understanding/agent/)\n",
      "  return cls(\n",
      "/Users/atulgupta/workspace/rag-handson/venv/lib/python3.13/site-packages/deprecated/classic.py:184: DeprecationWarning: Call to deprecated class AgentRunner. (AgentRunner has been deprecated and is not maintained.\n",
      "\n",
      "This implementation will be removed in a v0.13.0.\n",
      "\n",
      "See the docs for more information on updated agent usage: https://docs.llamaindex.ai/en/stable/understanding/agent/)\n",
      "  return old_new1(cls, *args, **kwargs)\n",
      "/Users/atulgupta/workspace/rag-handson/venv/lib/python3.13/site-packages/llama_index/agent/openai/step.py:213: DeprecationWarning: Call to deprecated class OpenAIAgentWorker. (OpenAIAgentWorker has been deprecated and is not maintained.\n",
      "\n",
      "`FunctionAgent` is the recommended replacement.\n",
      "\n",
      "See the docs for more information on updated agent usage: https://docs.llamaindex.ai/en/stable/understanding/agent/)\n",
      "  return cls(\n"
     ]
    },
    {
     "name": "stdout",
     "output_type": "stream",
     "text": [
      "===== Entering Chat REPL =====\n",
      "Type \"exit\" to exit.\n",
      "\n"
     ]
    }
   ],
   "source": [
    "from llama_index.core.chat_engine.types import ChatMode\n",
    "\n",
    "chat_engine = index.as_chat_engine(llm=llm, chat_mode=ChatMode.BEST)\n",
    "\n",
    "chat_engine.chat_repl()"
   ]
  },
  {
   "cell_type": "markdown",
   "id": "97fdba0f",
   "metadata": {},
   "source": [
    "* using reACT mode"
   ]
  },
  {
   "cell_type": "code",
   "execution_count": 47,
   "id": "9c89e1af",
   "metadata": {},
   "outputs": [
    {
     "name": "stderr",
     "output_type": "stream",
     "text": [
      "/Users/atulgupta/workspace/rag-handson/venv/lib/python3.13/site-packages/llama_index/agent/openai/base.py:144: DeprecationWarning: Call to deprecated class OpenAIAgent. (OpenAIAgent has been deprecated and is not maintained.\n",
      "\n",
      "`FunctionAgent` is the recommended replacement.\n",
      "\n",
      "See the docs for more information on updated agent usage: https://docs.llamaindex.ai/en/stable/understanding/agent/)\n",
      "  return cls(\n",
      "/Users/atulgupta/workspace/rag-handson/venv/lib/python3.13/site-packages/deprecated/classic.py:184: DeprecationWarning: Call to deprecated class AgentRunner. (AgentRunner has been deprecated and is not maintained.\n",
      "\n",
      "This implementation will be removed in a v0.13.0.\n",
      "\n",
      "See the docs for more information on updated agent usage: https://docs.llamaindex.ai/en/stable/understanding/agent/)\n",
      "  return old_new1(cls, *args, **kwargs)\n",
      "/Users/atulgupta/workspace/rag-handson/venv/lib/python3.13/site-packages/llama_index/agent/openai/step.py:213: DeprecationWarning: Call to deprecated class OpenAIAgentWorker. (OpenAIAgentWorker has been deprecated and is not maintained.\n",
      "\n",
      "`FunctionAgent` is the recommended replacement.\n",
      "\n",
      "See the docs for more information on updated agent usage: https://docs.llamaindex.ai/en/stable/understanding/agent/)\n",
      "  return cls(\n"
     ]
    },
    {
     "name": "stdout",
     "output_type": "stream",
     "text": [
      "===== Entering Chat REPL =====\n",
      "Type \"exit\" to exit.\n",
      "\n",
      "Assistant: Staying happy and bright all the time is a wonderful goal, but it’s important to remember that everyone experiences ups and downs. However, there are habits and mindsets that can help you maintain a more positive and resilient outlook:\n",
      "\n",
      "### 1. **Practice Gratitude**\n",
      "- Regularly reflect on things you’re thankful for. Keeping a gratitude journal can help shift your focus to the positive aspects of your life.\n",
      "\n",
      "### 2. **Take Care of Your Body**\n",
      "- Exercise regularly, eat nutritious foods, and get enough sleep. Physical health has a big impact on mood and energy.\n",
      "\n",
      "### 3. **Connect with Others**\n",
      "- Spend time with friends and family. Social connections are key to happiness.\n",
      "\n",
      "### 4. **Engage in Activities You Enjoy**\n",
      "- Make time for hobbies and activities that bring you joy and fulfillment.\n",
      "\n",
      "### 5. **Practice Mindfulness and Meditation**\n",
      "- Mindfulness helps you stay present and reduces stress. Meditation can improve your overall sense of well-being.\n",
      "\n",
      "### 6. **Help Others**\n",
      "- Acts of kindness and helping others can boost your own happiness.\n",
      "\n",
      "### 7. **Set Realistic Goals**\n",
      "- Having goals gives you a sense of purpose. Celebrate your achievements, no matter how small.\n",
      "\n",
      "### 8. **Accept Your Emotions**\n",
      "- It’s normal to feel sad or down sometimes. Accepting your emotions rather than fighting them can help you move through them more easily.\n",
      "\n",
      "### 9. **Limit Negative Influences**\n",
      "- Reduce exposure to negative news, toxic people, or environments that bring you down.\n",
      "\n",
      "### 10. **Seek Professional Help if Needed**\n",
      "- If you struggle with persistent sadness or anxiety, consider talking to a mental health professional.\n",
      "\n",
      "**Remember:** Happiness is a journey, not a constant state. Embracing both the highs and lows of life can actually make your overall experience richer and more meaningful.\n",
      "\n"
     ]
    }
   ],
   "source": [
    "react_chat_engine = index.as_chat_engine(llm=llm, chat_mode=ChatMode.REACT)\n",
    "react_chat_engine.streaming_chat_repl()"
   ]
  },
  {
   "cell_type": "markdown",
   "id": "6e334357",
   "metadata": {},
   "source": [
    "* Chat Memory Buffer"
   ]
  },
  {
   "cell_type": "code",
   "execution_count": 48,
   "id": "72e7d706",
   "metadata": {},
   "outputs": [],
   "source": [
    "from llama_index.core.memory import ChatMemoryBuffer\n",
    "\n",
    "memory = ChatMemoryBuffer(token_limit=1500)"
   ]
  },
  {
   "cell_type": "code",
   "execution_count": 52,
   "id": "f386df4b",
   "metadata": {},
   "outputs": [
    {
     "name": "stdout",
     "output_type": "stream",
     "text": [
      "===== Entering Chat REPL =====\n",
      "Type \"exit\" to exit.\n",
      "\n",
      "Assistant: That’s a wonderful and important question—one that Naval Ravikant addresses with great insight in *The Almanack of Naval Ravikant*.\n",
      "\n",
      "**Naval’s Perspective:**\n",
      "\n",
      "On page 90, Naval explains that making money can solve your money problems, but it won’t automatically make you happy or stress-free. In fact, the process of becoming rich often requires you to become a “high-anxiety, high-stress, hard-working, competitive person.” If you spend decades in that mode, it becomes your default state, and even after achieving wealth, you may find it difficult to turn off the stress and anxiety.\n",
      "\n",
      "**Key Lessons from Naval:**\n",
      "\n",
      "1. **Money Solves Money Problems, Not Happiness:**  \n",
      "   Money removes obstacles related to financial insecurity, but happiness is a separate pursuit. Many wealthy people remain unhappy because they haven’t learned how to be happy—they’ve only learned how to be successful in a material sense.\n",
      "\n",
      "2. **Train Yourself for Happiness, Not Just Wealth:**  \n",
      "   If you train yourself to be anxious and competitive for years, that becomes your habit. After you achieve wealth, you must actively learn how to be peaceful and happy. This is a separate skill set.\n",
      "\n",
      "3. **Use Money as a Tool for Freedom:**  \n",
      "   Naval suggests that money, when used wisely, can buy you the freedom and time to pursue internal peace and happiness. Living below your means and saving gives you the space to focus on what truly matters to you.\n",
      "\n",
      "4. **Balance External Success with Internal Peace:**  \n",
      "   In the past, people seeking peace would become monks and renounce everything. Today, you can use money to buy yourself the time and freedom to work on your inner self, without needing to give up everything.\n",
      "\n",
      "**Practical Steps Inspired by Naval:**\n",
      "\n",
      "- **Be Mindful of the Person You’re Becoming:**  \n",
      "  Don’t sacrifice your peace and happiness for wealth. Try to build habits of calm, mindfulness, and gratitude alongside your pursuit of success.\n",
      "\n",
      "- **Prioritize Freedom Over Status:**  \n",
      "  Use your resources to gain autonomy over your time and choices, rather than to impress others.\n",
      "\n",
      "- **Practice Detachment:**  \n",
      "  Work hard, but don’t tie your self-worth or happiness to outcomes. Enjoy the process and learn to let go.\n",
      "\n",
      "- **Invest in Your Inner Life:**  \n",
      "  Meditate, reflect, and cultivate self-awareness. These practices help you remain centered, regardless of external circumstances.\n",
      "\n",
      "**In summary:**  \n",
      "You can be rich and successful *and* stress-free, but it requires conscious effort to cultivate inner peace alongside your external achievements. Don’t just train yourself to make money—train yourself to be happy and at peace, too.\n",
      "\n",
      "Would you like some specific practices or routines Naval recommends for cultivating happiness and peace?\n",
      "\n"
     ]
    }
   ],
   "source": [
    "chat_engine = index.as_chat_engine(\n",
    "    llm=llm,\n",
    "    chat_mode='context',\n",
    "    memory=memory,\n",
    "    system_prompt= (\n",
    "        'You are a wise librarian who knows about a lot of books, but your favourite one is Almanack of Naval Ravikant, and you can answer anything asked about this books or its teachings.'\n",
    "    )\n",
    ")\n",
    "\n",
    "response = chat_engine.streaming_chat_repl()"
   ]
  },
  {
   "cell_type": "markdown",
   "id": "9b8b0446",
   "metadata": {},
   "source": [
    "### Customizing Querying"
   ]
  },
  {
   "cell_type": "code",
   "execution_count": 59,
   "id": "40b36140",
   "metadata": {},
   "outputs": [],
   "source": [
    "from llama_index.core import get_response_synthesizer\n",
    "from llama_index.core.retrievers import VectorIndexRetriever\n",
    "from llama_index.core.query_engine import RetrieverQueryEngine\n",
    "from llama_index.core.postprocessor import SimilarityPostprocessor"
   ]
  },
  {
   "cell_type": "markdown",
   "id": "8ba2363b",
   "metadata": {},
   "source": [
    "1- Configure a Retriever"
   ]
  },
  {
   "cell_type": "code",
   "execution_count": 61,
   "id": "6fa1e9ee",
   "metadata": {},
   "outputs": [],
   "source": [
    "retriever = VectorIndexRetriever(\n",
    "    index=index,\n",
    "    similarity_top_k=10\n",
    ")"
   ]
  },
  {
   "cell_type": "markdown",
   "id": "94d86428",
   "metadata": {},
   "source": [
    "2- Configure a postprocessor"
   ]
  },
  {
   "cell_type": "code",
   "execution_count": 57,
   "id": "9c829601",
   "metadata": {},
   "outputs": [],
   "source": [
    "postprocessor = SimilarityPostprocessor(similarity_cutoff=0.5)"
   ]
  },
  {
   "cell_type": "markdown",
   "id": "638727e5",
   "metadata": {},
   "source": [
    "3- Configure a response synthesizer"
   ]
  },
  {
   "cell_type": "code",
   "execution_count": 60,
   "id": "4c086840",
   "metadata": {},
   "outputs": [],
   "source": [
    "response_synthesizer = get_response_synthesizer(llm=llm)"
   ]
  },
  {
   "cell_type": "markdown",
   "id": "d175ffbc",
   "metadata": {},
   "source": [
    "4- Create a Query Engine"
   ]
  },
  {
   "cell_type": "code",
   "execution_count": 62,
   "id": "a14ee439",
   "metadata": {},
   "outputs": [],
   "source": [
    "query_engine = RetrieverQueryEngine(\n",
    "    retriever=retriever,\n",
    "    response_synthesizer=response_synthesizer,\n",
    "    node_postprocessors=[postprocessor],\n",
    ")"
   ]
  },
  {
   "cell_type": "code",
   "execution_count": 70,
   "id": "510d7e0e",
   "metadata": {},
   "outputs": [],
   "source": [
    "response = query_engine.query('Staying honest yet acheiving excellence and success, how is it made possible?')"
   ]
  },
  {
   "cell_type": "code",
   "execution_count": 72,
   "id": "bcacaf09",
   "metadata": {},
   "outputs": [
    {
     "name": "stdout",
     "output_type": "stream",
     "text": [
      "Achieving excellence and success while staying honest is possible by integrating honesty into your approach to life and decision-making. Honesty is not about being blunt or negative, but about being authentic and congruent—saying what you think and thinking what you say. This alignment frees you from self-deception and keeps you connected to reality, which is essential for sound judgment and effective decisions.\n",
      "\n",
      "When offering criticism, focus on critiquing general approaches or classes of activities rather than individuals, and when praising, be specific and direct with individuals. This method helps avoid triggering defensiveness and instead enlists people’s egos to work with you, not against you.\n",
      "\n",
      "Charisma can be developed by projecting both confidence and love, making it possible to be honest while remaining positive. Excellence in decision-making comes from discarding biases, memory, and identity when facing important choices, and focusing solely on the problem at hand. This clarity leads to better decisions, which, especially in high-leverage situations, can create significant value.\n",
      "\n",
      "Ultimately, real success is internal and comes from self-respect and self-esteem, which are built by consistently acting in alignment with your values and being honest with yourself and others. This internal foundation supports both happiness and sustained excellence.\n"
     ]
    }
   ],
   "source": [
    "print(response)"
   ]
  },
  {
   "cell_type": "code",
   "execution_count": null,
   "id": "9b070599",
   "metadata": {},
   "outputs": [],
   "source": []
  }
 ],
 "metadata": {
  "kernelspec": {
   "display_name": "venv",
   "language": "python",
   "name": "python3"
  },
  "language_info": {
   "codemirror_mode": {
    "name": "ipython",
    "version": 3
   },
   "file_extension": ".py",
   "mimetype": "text/x-python",
   "name": "python",
   "nbconvert_exporter": "python",
   "pygments_lexer": "ipython3",
   "version": "3.12.1"
  }
 },
 "nbformat": 4,
 "nbformat_minor": 5
}
