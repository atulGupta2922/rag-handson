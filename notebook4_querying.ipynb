{
 "cells": [
  {
   "cell_type": "code",
   "execution_count": 2,
   "id": "196b120a",
   "metadata": {},
   "outputs": [],
   "source": [
    "import os\n",
    "\n",
    "from getpass import getpass\n",
    "import nest_asyncio\n",
    "\n",
    "from dotenv import load_dotenv\n",
    "\n",
    "nest_asyncio.apply()\n",
    "\n",
    "load_dotenv()\n",
    "\n",
    "\n",
    "CO_API_KEY = os.environ['CO_API_KEY'] or getpass(\"Enter your Cohere API key: \")\n",
    "OPENAI_API_KEY = os.environ['OPENAI_API_KEY'] or getpass(\"Enter your OpenAI API key: \")\n",
    "AZURE_AI_SEARCH_ENDPOINT= os.environ['AZURE_AI_SEARCH_ENDPOINT']\n",
    "AZURE_AI_SEARCH_API_KEY= os.environ['AZURE_AI_SEARCH_API_KEY']\n",
    "AZURE_OPENAI_ENDPOINT= os.environ['AZURE_OPENAI_ENDPOINT']\n",
    "AZURE_API_KEY= os.environ['AZURE_API_KEY']"
   ]
  },
  {
   "cell_type": "code",
   "execution_count": 5,
   "id": "08cfecc0",
   "metadata": {},
   "outputs": [],
   "source": [
    "from azure.search.documents.indexes import SearchIndexClient\n",
    "from llama_index.embeddings.openai import OpenAIEmbedding\n",
    "from llama_index.core import VectorStoreIndex\n",
    "from llama_index.vector_stores.azureaisearch import AzureAISearchVectorStore\n",
    "from llama_index.vector_stores.azureaisearch import IndexManagement\n",
    "from llama_index.core import StorageContext\n",
    "from azure.core.credentials import AzureKeyCredential\n",
    "from llama_index.embeddings.azure_openai import AzureOpenAIEmbedding\n"
   ]
  },
  {
   "cell_type": "markdown",
   "id": "e0fffa92",
   "metadata": {},
   "source": [
    "# Init and loading index from vector store"
   ]
  },
  {
   "cell_type": "markdown",
   "id": "044d755d",
   "metadata": {},
   "source": [
    "#### Init embed model (using my own embed model hosted on azure AI foundry)"
   ]
  },
  {
   "cell_type": "code",
   "execution_count": 6,
   "id": "231b0425",
   "metadata": {},
   "outputs": [],
   "source": [
    "embed_model = AzureOpenAIEmbedding(\n",
    "    model=\"text-embedding-3-small\",\n",
    "    deployment_name=\"text-embedding-3-small\",\n",
    "    azure_endpoint=AZURE_OPENAI_ENDPOINT,\n",
    "    api_key=AZURE_API_KEY,\n",
    "    api_version=\"2024-02-01\", \n",
    ")"
   ]
  },
  {
   "cell_type": "markdown",
   "id": "48325e29",
   "metadata": {},
   "source": [
    "#### Init index_client \n",
    "`(using my own index (vector db - Azure AI search) hosted on azure AI foundry)`"
   ]
  },
  {
   "cell_type": "code",
   "execution_count": 8,
   "id": "1a5a5c9a",
   "metadata": {},
   "outputs": [],
   "source": [
    "credential = AzureKeyCredential(AZURE_AI_SEARCH_API_KEY)\n",
    "index_client = SearchIndexClient(endpoint=AZURE_AI_SEARCH_ENDPOINT, credential=credential)"
   ]
  },
  {
   "cell_type": "markdown",
   "id": "b20f3c87",
   "metadata": {},
   "source": [
    "#### Init Vector Store"
   ]
  },
  {
   "cell_type": "code",
   "execution_count": 9,
   "id": "32a30013",
   "metadata": {},
   "outputs": [
    {
     "name": "stderr",
     "output_type": "stream",
     "text": [
      "async_search_or_index_client is None. Depending on the client type passed in, sync or async functions may not work.\n"
     ]
    }
   ],
   "source": [
    "index_name = 'it_can_be_done'\n",
    "\n",
    "vector_store = AzureAISearchVectorStore(\n",
    "    search_or_index_client=index_client,\n",
    "    index_name=index_name,\n",
    "    index_management=IndexManagement.CREATE_IF_NOT_EXISTS,\n",
    "    embed_model=embed_model,\n",
    "    id_field_key=\"id\",\n",
    "    chunk_field_key=\"chunk\",\n",
    "    embedding_field_key=\"embedding\",\n",
    "    metadata_string_field_key=\"metadata\",\n",
    "    doc_id_field_key=\"doc_id\",\n",
    ")"
   ]
  },
  {
   "cell_type": "markdown",
   "id": "f33a17f0",
   "metadata": {},
   "source": [
    "#### Providind vector_store as storage_context"
   ]
  },
  {
   "cell_type": "code",
   "execution_count": 10,
   "id": "a523c668",
   "metadata": {},
   "outputs": [],
   "source": [
    "storage_context = StorageContext.from_defaults(\n",
    "    vector_store=vector_store,\n",
    "    )"
   ]
  },
  {
   "cell_type": "markdown",
   "id": "1783a022",
   "metadata": {},
   "source": [
    "#### Loading index from stored vectors"
   ]
  },
  {
   "cell_type": "code",
   "execution_count": 11,
   "id": "2385a776",
   "metadata": {},
   "outputs": [],
   "source": [
    "index = VectorStoreIndex.from_vector_store(\n",
    "    vector_store=vector_store, \n",
    "    embed_model=embed_model,\n",
    "    storage_context=storage_context\n",
    ")"
   ]
  },
  {
   "cell_type": "markdown",
   "id": "f7d6c356",
   "metadata": {
    "vscode": {
     "languageId": "html"
    }
   },
   "source": [
    "<h5 style=\"color:green\">Index Loaded successfully. [READY FOR QUERYING]</h5>"
   ]
  },
  {
   "cell_type": "markdown",
   "id": "e39f0179",
   "metadata": {},
   "source": []
  },
  {
   "cell_type": "code",
   "execution_count": null,
   "id": "dbf99def",
   "metadata": {},
   "outputs": [],
   "source": []
  }
 ],
 "metadata": {
  "kernelspec": {
   "display_name": "venv",
   "language": "python",
   "name": "python3"
  },
  "language_info": {
   "codemirror_mode": {
    "name": "ipython",
    "version": 3
   },
   "file_extension": ".py",
   "mimetype": "text/x-python",
   "name": "python",
   "nbconvert_exporter": "python",
   "pygments_lexer": "ipython3",
   "version": "3.12.1"
  }
 },
 "nbformat": 4,
 "nbformat_minor": 5
}
